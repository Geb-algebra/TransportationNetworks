{
 "cells": [
  {
   "cell_type": "code",
   "execution_count": 1,
   "id": "e2cd0c46",
   "metadata": {},
   "outputs": [],
   "source": [
    "import numpy as np"
   ]
  },
  {
   "cell_type": "code",
   "execution_count": 2,
   "id": "e6999b03",
   "metadata": {},
   "outputs": [],
   "source": [
    "header = [\"init_node\", \"term_node\", \"free_flow_time\", \"capacity\"]"
   ]
  },
  {
   "cell_type": "code",
   "execution_count": 19,
   "id": "e2bc7850",
   "metadata": {},
   "outputs": [],
   "source": [
    "data = np.loadtxt(\"Nguyen.csv\", delimiter=\",\")\n",
    "base_data = np.ones((19, 11))"
   ]
  },
  {
   "cell_type": "code",
   "execution_count": 20,
   "id": "e9b1983c",
   "metadata": {},
   "outputs": [
    {
     "data": {
      "text/plain": [
       "array([[  1. ,   1. ,   5. ,   2. , 120. ],\n",
       "       [  2. ,   1. ,  12. ,   1. , 120. ],\n",
       "       [  3. ,   5. ,   4. ,   2. ,  30. ],\n",
       "       [  4. ,   4. ,   9. ,   1.4,  30. ],\n",
       "       [  5. ,   5. ,   6. ,   2.1,  30. ],\n",
       "       [  6. ,   5. ,   9. ,   2.2,  30. ],\n",
       "       [  7. ,   6. ,   7. ,   2.3,  30. ],\n",
       "       [  8. ,   6. ,  10. ,   2.4,  30. ],\n",
       "       [  9. ,   7. ,   8. ,   2. ,  30. ],\n",
       "       [ 10. ,   7. ,  11. ,   2. ,  30. ],\n",
       "       [ 11. ,   8. ,   2. ,   2. ,  30. ],\n",
       "       [ 12. ,   9. ,  10. ,   2. ,  30. ],\n",
       "       [ 13. ,   9. ,  13. ,   1.4,  30. ],\n",
       "       [ 14. ,  10. ,  11. ,   2. ,  30. ],\n",
       "       [ 15. ,  11. ,   2. ,   2. ,  30. ],\n",
       "       [ 16. ,  11. ,   3. ,   2. ,  30. ],\n",
       "       [ 17. ,  12. ,   6. ,   2. ,  30. ],\n",
       "       [ 18. ,  12. ,   8. ,   2.2,  30. ],\n",
       "       [ 19. ,  13. ,   3. ,   2. ,  30. ]])"
      ]
     },
     "execution_count": 20,
     "metadata": {},
     "output_type": "execute_result"
    }
   ],
   "source": [
    "data"
   ]
  },
  {
   "cell_type": "code",
   "execution_count": 25,
   "id": "7e6ba30c",
   "metadata": {},
   "outputs": [],
   "source": [
    "base_data[:, 0:3] = data[:, 0:3]\n",
    "base_data[:, 3] = data[:, 4]\n",
    "base_data[:, 5] = np.rint(data[: , 3]*2) - 1"
   ]
  },
  {
   "cell_type": "code",
   "execution_count": 26,
   "id": "11f98132",
   "metadata": {},
   "outputs": [
    {
     "data": {
      "text/plain": [
       "array([[  1.,   1.,   5., 120.,   1.,   3.,   1.,   1.,   1.,   1.,   1.],\n",
       "       [  2.,   1.,  12., 120.,   1.,   1.,   1.,   1.,   1.,   1.,   1.],\n",
       "       [  3.,   5.,   4.,  30.,   1.,   3.,   1.,   1.,   1.,   1.,   1.],\n",
       "       [  4.,   4.,   9.,  30.,   1.,   2.,   1.,   1.,   1.,   1.,   1.],\n",
       "       [  5.,   5.,   6.,  30.,   1.,   3.,   1.,   1.,   1.,   1.,   1.],\n",
       "       [  6.,   5.,   9.,  30.,   1.,   3.,   1.,   1.,   1.,   1.,   1.],\n",
       "       [  7.,   6.,   7.,  30.,   1.,   4.,   1.,   1.,   1.,   1.,   1.],\n",
       "       [  8.,   6.,  10.,  30.,   1.,   4.,   1.,   1.,   1.,   1.,   1.],\n",
       "       [  9.,   7.,   8.,  30.,   1.,   3.,   1.,   1.,   1.,   1.,   1.],\n",
       "       [ 10.,   7.,  11.,  30.,   1.,   3.,   1.,   1.,   1.,   1.,   1.],\n",
       "       [ 11.,   8.,   2.,  30.,   1.,   3.,   1.,   1.,   1.,   1.,   1.],\n",
       "       [ 12.,   9.,  10.,  30.,   1.,   3.,   1.,   1.,   1.,   1.,   1.],\n",
       "       [ 13.,   9.,  13.,  30.,   1.,   2.,   1.,   1.,   1.,   1.,   1.],\n",
       "       [ 14.,  10.,  11.,  30.,   1.,   3.,   1.,   1.,   1.,   1.,   1.],\n",
       "       [ 15.,  11.,   2.,  30.,   1.,   3.,   1.,   1.,   1.,   1.,   1.],\n",
       "       [ 16.,  11.,   3.,  30.,   1.,   3.,   1.,   1.,   1.,   1.,   1.],\n",
       "       [ 17.,  12.,   6.,  30.,   1.,   3.,   1.,   1.,   1.,   1.,   1.],\n",
       "       [ 18.,  12.,   8.,  30.,   1.,   3.,   1.,   1.,   1.,   1.,   1.],\n",
       "       [ 19.,  13.,   3.,  30.,   1.,   3.,   1.,   1.,   1.,   1.,   1.]])"
      ]
     },
     "execution_count": 26,
     "metadata": {},
     "output_type": "execute_result"
    }
   ],
   "source": [
    "base_data"
   ]
  },
  {
   "cell_type": "code",
   "execution_count": 27,
   "id": "985916b7",
   "metadata": {},
   "outputs": [
    {
     "name": "stdout",
     "output_type": "stream",
     "text": [
      "\t1\t1\t5\t120\t1\t3\t1\t1\t1\t1\t1\t;\n",
      "\t2\t1\t12\t120\t1\t1\t1\t1\t1\t1\t1\t;\n",
      "\t3\t5\t4\t30\t1\t3\t1\t1\t1\t1\t1\t;\n",
      "\t4\t4\t9\t30\t1\t2\t1\t1\t1\t1\t1\t;\n",
      "\t5\t5\t6\t30\t1\t3\t1\t1\t1\t1\t1\t;\n",
      "\t6\t5\t9\t30\t1\t3\t1\t1\t1\t1\t1\t;\n",
      "\t7\t6\t7\t30\t1\t4\t1\t1\t1\t1\t1\t;\n",
      "\t8\t6\t10\t30\t1\t4\t1\t1\t1\t1\t1\t;\n",
      "\t9\t7\t8\t30\t1\t3\t1\t1\t1\t1\t1\t;\n",
      "\t10\t7\t11\t30\t1\t3\t1\t1\t1\t1\t1\t;\n",
      "\t11\t8\t2\t30\t1\t3\t1\t1\t1\t1\t1\t;\n",
      "\t12\t9\t10\t30\t1\t3\t1\t1\t1\t1\t1\t;\n",
      "\t13\t9\t13\t30\t1\t2\t1\t1\t1\t1\t1\t;\n",
      "\t14\t10\t11\t30\t1\t3\t1\t1\t1\t1\t1\t;\n",
      "\t15\t11\t2\t30\t1\t3\t1\t1\t1\t1\t1\t;\n",
      "\t16\t11\t3\t30\t1\t3\t1\t1\t1\t1\t1\t;\n",
      "\t17\t12\t6\t30\t1\t3\t1\t1\t1\t1\t1\t;\n",
      "\t18\t12\t8\t30\t1\t3\t1\t1\t1\t1\t1\t;\n",
      "\t19\t13\t3\t30\t1\t3\t1\t1\t1\t1\t1\t;\n",
      "\n"
     ]
    }
   ],
   "source": [
    "tntp_data = \"\"\n",
    "for d in base_data:\n",
    "    for i, e in enumerate(d):\n",
    "        tntp_data += f\"\\t{int(e)}\"\n",
    "    tntp_data += \"\\t;\\n\"\n",
    "print(tntp_data)"
   ]
  },
  {
   "cell_type": "code",
   "execution_count": 11,
   "id": "08ac56f3",
   "metadata": {},
   "outputs": [],
   "source": [
    "np.loadtxt?"
   ]
  },
  {
   "cell_type": "code",
   "execution_count": null,
   "id": "8594c419",
   "metadata": {},
   "outputs": [],
   "source": []
  }
 ],
 "metadata": {
  "kernelspec": {
   "display_name": "Python 3 (ipykernel)",
   "language": "python",
   "name": "python3"
  },
  "language_info": {
   "codemirror_mode": {
    "name": "ipython",
    "version": 3
   },
   "file_extension": ".py",
   "mimetype": "text/x-python",
   "name": "python",
   "nbconvert_exporter": "python",
   "pygments_lexer": "ipython3",
   "version": "3.8.11"
  }
 },
 "nbformat": 4,
 "nbformat_minor": 5
}
